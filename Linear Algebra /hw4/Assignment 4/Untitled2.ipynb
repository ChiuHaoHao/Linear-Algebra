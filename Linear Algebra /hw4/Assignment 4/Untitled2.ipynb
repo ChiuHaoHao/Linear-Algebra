{
 "cells": [
  {
   "cell_type": "code",
   "execution_count": 8,
   "metadata": {},
   "outputs": [
    {
     "name": "stdout",
     "output_type": "stream",
     "text": [
      "0.03630186035512135 0.06293328914799041\n"
     ]
    },
    {
     "name": "stderr",
     "output_type": "stream",
     "text": [
      "/opt/anaconda3/lib/python3.7/site-packages/ipykernel_launcher.py:108: ComplexWarning: Casting complex values to real discards the imaginary part\n"
     ]
    },
    {
     "data": {
      "text/plain": [
       "<matplotlib.image.AxesImage at 0x1077cc3d0>"
      ]
     },
     "execution_count": 8,
     "metadata": {},
     "output_type": "execute_result"
    },
    {
     "data": {
      "image/png": "[encoded data removed]",
      "text/plain": [
       "<Figure size 432x288 with 1 Axes>"
      ]
     },
     "metadata": {
      "needs_background": "light"
     },
     "output_type": "display_data"
    },
    {
     "data": {
      "image/png": "[encoded data removed]",
      "text/plain": [
       "<Figure size 432x288 with 1 Axes>"
      ]
     },
     "metadata": {
      "needs_background": "light"
     },
     "output_type": "display_data"
    }
   ],
   "source": [
    "import numpy as np\n",
    "import matplotlib.image as img\n",
    "import matplotlib.pyplot as plt\n",
    "import scipy.sparse as sp\n",
    "import scipy.sparse.linalg as spla\n",
    "import math\n",
    "from sklearn.cluster import KMeans\n",
    "\n",
    "def searchSimilarity(img):\n",
    "\n",
    "    # get the width (w), height (h), and # of colors (c) from the image\n",
    "    [h, w, c] = np.array(img).shape\n",
    "    \n",
    "    N = w*h\n",
    "    \n",
    "    # those lists will be used to store a sparse matrix S\n",
    "    li = []\n",
    "    lj = []\n",
    "    lv = []\n",
    "    deg = np.zeros(N)\n",
    "    mean = 0\n",
    "    std = 0\n",
    "\n",
    "    # Here we use a vector to represent an image.\n",
    "    # Each pixel is an element, so the vector length l = w*h.\n",
    "    # We will use the row major to define the index of each pixel.\n",
    "    \n",
    "    # We need to compute the \"similarity\" among pixels,\n",
    "    # and store them in a matrix S, whose size is l*l.\n",
    "    # But only adjacent pixels are considered to have \"location similarity\".\n",
    "    # So the matrix is highly \"sparse\", which means it has many zeros.\n",
    "    \n",
    "    # Therefore, we will use the sparse matrix format to store S.\n",
    "    # The format we used is called \"COOrdinate\" (COO), which stores \n",
    "    # each nonzero element by (i, j, v), the index (i,j) and the value v.\n",
    "    #  \n",
    "    \n",
    "    #---------------------------------------------------------\n",
    "    def computeSim(i1, j1, i2, j2):\n",
    "        # v1 and v2 are vectors of size = 3.\n",
    "        d = img[i1, j1, :]-img[i2, j2, :]\n",
    "        v = np.linalg.norm(d)\n",
    "        return v\n",
    "    \n",
    "    def insert(i, j , v):\n",
    "        # insert the index (i,j) (j,i) and the value v to the matrix\n",
    "        nonlocal mean, std\n",
    "        li.append(i)\n",
    "        lj.append(j)\n",
    "        lv.append(v)\n",
    "        li.append(j)\n",
    "        lj.append(i)\n",
    "        lv.append(v)\n",
    "        mean = mean + v\n",
    "        std = std + v*v\n",
    "    \n",
    "    #---------------------------------------------------------\n",
    "    for h_idx in range(h):\n",
    "        for w_idx in range(w):\n",
    "            i = h_idx*h + w_idx  # source \n",
    "            # down\n",
    "            if (h_idx<h-1):      \n",
    "                j = i + w      # destination\n",
    "                v = computeSim(h_idx, w_idx, h_idx+1, w_idx)\n",
    "                insert(i, j, v)\n",
    "                \n",
    "            # right\n",
    "            if (w_idx < w-1):      \n",
    "                j = i + 1      # destination\n",
    "                v = computeSim(h_idx, w_idx, h_idx, w_idx+1)\n",
    "                insert(i, j, v)\n",
    "\n",
    "    # construct the sparse matrix\n",
    "    sz = len(li)\n",
    "    mean = mean / sz\n",
    "    std = math.sqrt(std/sz - mean*mean)\n",
    "    print(mean, std)\n",
    "    \n",
    "    for i in range(sz):\n",
    "        lv[i] = -math.exp(-lv[i]*2/std)\n",
    "        deg[li[i]] = deg[li[i]] - lv[i]\n",
    "        \n",
    "    for i in range(N):\n",
    "        li.append(i)\n",
    "        lj.append(i)\n",
    "        lv.append(1)\n",
    "        deg[i] = math.sqrt(deg[i])\n",
    "\n",
    "    for i in range(sz):\n",
    "        lv[i] = lv[i]/deg[li[i]]/deg[lj[i]]\n",
    "\n",
    "    L = sp.coo_matrix((lv, (li,lj)), shape=(N, N))\n",
    "    \n",
    "    return L, w, h\n",
    "\n",
    "# -------- spectral clustering ------------------\n",
    "def SpectralClustering(image, nCluster):\n",
    "    ''' the returned values of searchSimilarity are\n",
    "        L: Laplacian matrix in the COO format\n",
    "        w, h: the width and height of the image\n",
    "    '''\n",
    "    L, w, h = searchSimilarity(image)\n",
    "\n",
    "    # call scipy.sparse.linalg.eigs to get the smallest eigenvalues \n",
    "    # and its corresponding eigenvectors\n",
    "    m = 5\n",
    "    vals, vecs = spla.eigs(L, k=m, which='SR')\n",
    "    min_vecs = np.reshape(vecs, (w*h,m)).astype(float)\n",
    "    clf = KMeans(n_clusters=nCluster)\n",
    "    clf.fit(min_vecs)\n",
    "    img_labels = np.reshape(clf.labels_, (h, w))\n",
    "    # use the values in eigenvectors as features and call K-means to \n",
    "    # cluster pixels\n",
    "    return img_labels\n",
    "\n",
    "# -------- Kmeans Clustering --------------------\n",
    "def KMeansClustering(image, nCluster):\n",
    "    ''' Use RGB values as features to cluster objects.\n",
    "    '''\n",
    "    [h, w, c] = np.array(image).shape\n",
    "    N = w*h\n",
    "    img = np.reshape(image, (N, c))\n",
    "    \n",
    "    clf = KMeans(n_clusters=nCluster)\n",
    "    clf.fit(img)\n",
    "    img_labels = np.reshape(clf.labels_, (h, w))\n",
    "    return img_labels\n",
    "    \n",
    "# -------- main program -------------------------\n",
    "image = img.imread('pear.png')\n",
    "\n",
    "nCluster = 5\n",
    "img1 = KMeansClustering(image, nCluster)\n",
    "plt.imshow(img1)\n",
    "plt.figure()\n",
    "img2 = SpectralClustering(image, nCluster)\n",
    "plt.imshow(img2)"
   ]
  },
  {
   "cell_type": "code",
   "execution_count": null,
   "metadata": {},
   "outputs": [],
   "source": []
  }
 ],
 "metadata": {
  "kernelspec": {
   "display_name": "Python 3",
   "language": "python",
   "name": "python3"
  },
  "language_info": {
   "codemirror_mode": {
    "name": "ipython",
    "version": 3
   },
   "file_extension": ".py",
   "mimetype": "text/x-python",
   "name": "python",
   "nbconvert_exporter": "python",
   "pygments_lexer": "ipython3",
   "version": "3.7.4"
  }
 },
 "nbformat": 4,
 "nbformat_minor": 2
}
